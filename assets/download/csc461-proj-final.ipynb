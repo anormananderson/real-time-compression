{
 "cells": [
  {
   "cell_type": "markdown",
   "metadata": {},
   "source": [
    "# Details\n",
    "This notebook was used for a short mesh compression demo that I developed as part of CSC 461.\n",
    "\n",
    "You can find more details at https://anormananderson.github.io/real-time-compression/ as well as https://www.youtube.com/watch?v=8Caw7d_83wE"
   ]
  },
  {
   "cell_type": "markdown",
   "metadata": {},
   "source": [
    "# Initial terminology\n",
    "\n",
    "Vertex: A point in space.\n",
    "\n",
    "Edge: An edge connects two vertices. It is a line between two points.\n",
    "\n",
    "Face: For our purposes, an individual triangle.\n",
    "\n",
    "Mesh: A collection of vertices, edges, and faces which together describe some polyhedral object.\n",
    "\n",
    "Parameterization: In our case, we are mapping vertices into the 2D u, v coordinate plane.\n",
    "This means that we define a function f(u, v) which spits out the 3D coordinate represented\n",
    "by the point at (u, v) in the 2D plane.\n",
    "\n",
    "Genus: The number of holes in a surface."
   ]
  },
  {
   "cell_type": "markdown",
   "metadata": {},
   "source": [
    "# Goals\n",
    "\n",
    "Our goals for this project are to:\n",
    "\n",
    "- Load a 3D object from a file.\n",
    "\n",
    "- Parameterize it into the 2D plane.\n",
    "\n",
    "- Quantize every vertex position on the 2D plane"
   ]
  },
  {
   "cell_type": "code",
   "execution_count": 1,
   "metadata": {},
   "outputs": [],
   "source": [
    "import igl\n",
    "import meshplot as mp\n",
    "import numpy as np\n",
    "from PIL import Image\n",
    "import pythreejs as p3s"
   ]
  },
  {
   "cell_type": "code",
   "execution_count": 2,
   "metadata": {},
   "outputs": [],
   "source": [
    "# This mesh is available in the data folder for the libigl Python tutorials.\n",
    "# That data is available at https://github.com/libigl/libigl-tutorial-data\n",
    "v, f = igl.read_triangle_mesh(\"data/camelhead.off\")"
   ]
  },
  {
   "cell_type": "code",
   "execution_count": 3,
   "metadata": {},
   "outputs": [
    {
     "data": {
      "text/plain": [
       "' (A libigl function: https://github.com/libigl/libigl/blob/main/include/igl/map_vertices_to_circle.cpp)\\n// This file is part of libigl, a simple c++ geometry processing library.\\n//\\n// Copyright (C) 2014 Stefan Brugger <stefanbrugger@gmail.com>\\n//\\n// This Source Code Form is subject to the terms of the Mozilla Public License\\n// v. 2.0. If a copy of the MPL was not distributed with this file, You can\\n// obtain one at http://mozilla.org/MPL/2.0/.\\n\\n#include \"map_vertices_to_circle.h\"\\n#include \"PI.h\"\\n\\nIGL_INLINE void igl::map_vertices_to_circle(\\n  const Eigen::MatrixXd& V,\\n  const Eigen::VectorXi& bnd,\\n  Eigen::MatrixXd& UV)\\n{\\n  // Get sorted list of boundary vertices\\n  std::vector<int> interior,map_ij;\\n  map_ij.resize(V.rows());\\n\\n  std::vector<bool> isOnBnd(V.rows(),false);\\n  for (int i = 0; i < bnd.size(); i++)\\n  {\\n    isOnBnd[bnd[i]] = true;\\n    map_ij[bnd[i]] = i;\\n  }\\n\\n  for (int i = 0; i < (int)isOnBnd.size(); i++)\\n  {\\n    if (!isOnBnd[i])\\n    {\\n      map_ij[i] = interior.size();\\n      interior.push_back(i);\\n    }\\n  }\\n\\n  // Map boundary to unit circle\\n  std::vector<double> len(bnd.size());\\n  len[0] = 0.;\\n\\n  for (int i = 1; i < bnd.size(); i++)\\n  {\\n    len[i] = len[i-1] + (V.row(bnd[i-1]) - V.row(bnd[i])).norm();\\n  }\\n  double total_len = len[len.size()-1] + (V.row(bnd[0]) - V.row(bnd[bnd.size()-1])).norm();\\n\\n  UV.resize(bnd.size(),2);\\n  for (int i = 0; i < bnd.size(); i++)\\n  {\\n    double frac = len[i] * 2. * igl::PI / total_len;\\n    UV.row(map_ij[bnd[i]]) << cos(frac), sin(frac);\\n  }\\n'"
      ]
     },
     "execution_count": 3,
     "metadata": {},
     "output_type": "execute_result"
    }
   ],
   "source": [
    "''' (A libigl function: https://github.com/libigl/libigl/blob/main/include/igl/map_vertices_to_circle.cpp)\n",
    "// This file is part of libigl, a simple c++ geometry processing library.\n",
    "//\n",
    "// Copyright (C) 2014 Stefan Brugger <stefanbrugger@gmail.com>\n",
    "//\n",
    "// This Source Code Form is subject to the terms of the Mozilla Public License\n",
    "// v. 2.0. If a copy of the MPL was not distributed with this file, You can\n",
    "// obtain one at http://mozilla.org/MPL/2.0/.\n",
    "\n",
    "#include \"map_vertices_to_circle.h\"\n",
    "#include \"PI.h\"\n",
    "\n",
    "IGL_INLINE void igl::map_vertices_to_circle(\n",
    "  const Eigen::MatrixXd& V,\n",
    "  const Eigen::VectorXi& bnd,\n",
    "  Eigen::MatrixXd& UV)\n",
    "{\n",
    "  // Get sorted list of boundary vertices\n",
    "  std::vector<int> interior,map_ij;\n",
    "  map_ij.resize(V.rows());\n",
    "\n",
    "  std::vector<bool> isOnBnd(V.rows(),false);\n",
    "  for (int i = 0; i < bnd.size(); i++)\n",
    "  {\n",
    "    isOnBnd[bnd[i]] = true;\n",
    "    map_ij[bnd[i]] = i;\n",
    "  }\n",
    "\n",
    "  for (int i = 0; i < (int)isOnBnd.size(); i++)\n",
    "  {\n",
    "    if (!isOnBnd[i])\n",
    "    {\n",
    "      map_ij[i] = interior.size();\n",
    "      interior.push_back(i);\n",
    "    }\n",
    "  }\n",
    "\n",
    "  // Map boundary to unit circle\n",
    "  std::vector<double> len(bnd.size());\n",
    "  len[0] = 0.;\n",
    "\n",
    "  for (int i = 1; i < bnd.size(); i++)\n",
    "  {\n",
    "    len[i] = len[i-1] + (V.row(bnd[i-1]) - V.row(bnd[i])).norm();\n",
    "  }\n",
    "  double total_len = len[len.size()-1] + (V.row(bnd[0]) - V.row(bnd[bnd.size()-1])).norm();\n",
    "\n",
    "  UV.resize(bnd.size(),2);\n",
    "  for (int i = 0; i < bnd.size(); i++)\n",
    "  {\n",
    "    double frac = len[i] * 2. * igl::PI / total_len;\n",
    "    UV.row(map_ij[bnd[i]]) << cos(frac), sin(frac);\n",
    "  }\n",
    "'''"
   ]
  },
  {
   "cell_type": "markdown",
   "metadata": {},
   "source": [
    "# Modified function: map_vertices_to_square\n",
    "- Based on the Libigl function above\n",
    "- Parameterizes the mesh's vertices into a 2D square"
   ]
  },
  {
   "cell_type": "code",
   "execution_count": 4,
   "metadata": {},
   "outputs": [],
   "source": [
    "def map_vertices_to_square(v, bnd):\n",
    "    map_ij = np.zeros(v.shape[0], dtype=int)\n",
    "\n",
    "    isOnBnd = np.full(v.shape[0], False)\n",
    "\n",
    "    print(isOnBnd.shape, bnd.shape)\n",
    "    isOnBnd[bnd] = True\n",
    "    indices = np.arange(bnd.shape[0])\n",
    "    map_ij[bnd] = indices\n",
    "\n",
    "    # do the same thing for all interior vertices\n",
    "    interior = np.where(~isOnBnd)[0] \n",
    "    map_ij[interior] = np.arange(interior.shape[0])\n",
    "\n",
    "    bnd_len = np.zeros(bnd.shape[0], dtype=np.float64)\n",
    "\n",
    "    for i in range(bnd.shape[0]):\n",
    "        bnd_len[i] = bnd_len[i-1] + np.linalg.norm(v[bnd[i-1]] - v[bnd[i]])\n",
    "\n",
    "    total_bnd_len = bnd_len[bnd_len.shape[0]-1] + np.linalg.norm(v[bnd[0]] - v[bnd[bnd.shape[0]-1]])\n",
    "\n",
    "    bnd_uv = np.zeros((bnd.shape[0], 2))\n",
    "\n",
    "    frac = 4 * bnd_len / total_bnd_len\n",
    "\n",
    "    # Taken from https://math.stackexchange.com/a/978493\n",
    "    def phi(x):\n",
    "        step0 = np.min(np.vstack((np.ones(x.shape[0]), 3/2 - np.abs(x))), axis=0)\n",
    "        step1 = np.max(np.vstack((np.zeros(step0.shape[0]), step0)), axis=0)\n",
    "        return step1\n",
    "\n",
    "    u_coord = phi(frac - 3/2)\n",
    "    v_coord = phi(frac - 5/2)\n",
    "\n",
    "    bnd_uv[map_ij[bnd]] = np.vstack((u_coord, v_coord)).T\n",
    "    return bnd_uv\n"
   ]
  },
  {
   "cell_type": "code",
   "execution_count": 5,
   "metadata": {},
   "outputs": [
    {
     "name": "stdout",
     "output_type": "stream",
     "text": [
      "(11381,) (56,)\n"
     ]
    },
    {
     "data": {
      "application/vnd.jupyter.widget-view+json": {
       "model_id": "8bdf3bf3234f4c7982776291bc5ad4ec",
       "version_major": 2,
       "version_minor": 0
      },
      "text/plain": [
       "Renderer(camera=PerspectiveCamera(children=(DirectionalLight(color='white', intensity=0.6, position=(0.5, 0.5,…"
      ]
     },
     "metadata": {},
     "output_type": "display_data"
    },
    {
     "data": {
      "application/vnd.jupyter.widget-view+json": {
       "model_id": "923a5f361c214405b88dfc6ffc3cc9b1",
       "version_major": 2,
       "version_minor": 0
      },
      "text/plain": [
       "Renderer(camera=PerspectiveCamera(children=(DirectionalLight(color='white', intensity=0.6, position=(1.9967555…"
      ]
     },
     "metadata": {},
     "output_type": "display_data"
    },
    {
     "data": {
      "text/plain": [
       "2"
      ]
     },
     "execution_count": 5,
     "metadata": {},
     "output_type": "execute_result"
    }
   ],
   "source": [
    "p = np.array(igl.cut_to_disk(f))\n",
    "\n",
    "bnd = igl.boundary_loop(f)\n",
    "\n",
    "# map boundary to square\n",
    "bnd_uv = igl.map_vertices_to_circle(v, bnd)\n",
    "bnd_uv = map_vertices_to_square(v, bnd)\n",
    "\n",
    "uv = igl.harmonic_weights(v, f, bnd, bnd_uv, 1)\n",
    "v_p = np.hstack((uv, np.zeros((uv.shape[0],1))))\n",
    "p2 = mp.plot(v_p, f, shading={\"wireframe\": \"true\"})\n",
    "p2.add_points(np.array([[0.0, 0, 0], [1.0, 0, 0], [0, 1, 0], [1, 1, 0]]), shading={\"point_size\": 0.1})\n",
    "\n",
    "plot = mp.plot(v, f)\n",
    "for cut in p:\n",
    "    plot.add_lines(v[cut[:-1]], v[cut[1:]], shading={\"line_color\": \"green\"})\n",
    "\n",
    "plot.add_points(v[bnd], shading={\"point_size\": 0.1})"
   ]
  },
  {
   "cell_type": "code",
   "execution_count": 6,
   "metadata": {},
   "outputs": [
    {
     "name": "stdout",
     "output_type": "stream",
     "text": [
      "3%\n",
      "6%\n",
      "9%\n",
      "12%\n",
      "15%\n",
      "18%\n",
      "21%\n",
      "25%\n",
      "28%\n",
      "31%\n",
      "34%\n",
      "37%\n",
      "40%\n",
      "43%\n",
      "46%\n",
      "50%\n",
      "53%\n",
      "56%\n",
      "59%\n",
      "62%\n",
      "65%\n",
      "68%\n",
      "71%\n",
      "75%\n",
      "78%\n",
      "81%\n",
      "84%\n",
      "87%\n",
      "90%\n",
      "93%\n",
      "96%\n"
     ]
    }
   ],
   "source": [
    "# scale uv by image size\n",
    "# start at 0, 0, go to image_size, image_size\n",
    "# eval uv(0, 0), and set colour for that pixel\n",
    "\n",
    "IMG_SIZE = 32\n",
    "\n",
    "# scale vertex positions to be [0, 255]\n",
    "scaled_v = v - v.min()\n",
    "scaled_v *= 255/scaled_v.max()\n",
    "scaled_v = np.round(scaled_v)\n",
    "\n",
    "# u: cols, v: rows\n",
    "scaled_uv = uv * IMG_SIZE-1\n",
    "colours = np.zeros((IMG_SIZE, IMG_SIZE, 3), dtype=np.uint8)\n",
    "percentage = 0\n",
    "for i in range(IMG_SIZE):\n",
    "    for j in range(IMG_SIZE):\n",
    "        colours[i,j] = scaled_v[np.argmin(np.linalg.norm(scaled_uv - np.array([j, i]), axis=1))]\n",
    "    cur_percentage = int(i/IMG_SIZE*100)\n",
    "    if cur_percentage > percentage:\n",
    "        print(\"%d%%\" % cur_percentage)\n",
    "        percentage = cur_percentage"
   ]
  },
  {
   "cell_type": "code",
   "execution_count": 7,
   "metadata": {},
   "outputs": [],
   "source": [
    "im = Image.fromarray(colours, mode=\"RGB\")\n",
    "\n",
    "#im.show()\n",
    "with open(\"test.png\", \"wb\") as out:\n",
    "    im.save(out)"
   ]
  },
  {
   "cell_type": "code",
   "execution_count": 8,
   "metadata": {},
   "outputs": [
    {
     "data": {
      "application/vnd.jupyter.widget-view+json": {
       "model_id": "3ae12b7086364517b333ea319351154a",
       "version_major": 2,
       "version_minor": 0
      },
      "text/plain": [
       "Renderer(camera=PerspectiveCamera(children=(DirectionalLight(color='white', intensity=0.6, position=(135.5, 11…"
      ]
     },
     "metadata": {},
     "output_type": "display_data"
    },
    {
     "data": {
      "text/plain": [
       "<meshplot.Viewer.Viewer at 0x7f8800426740>"
      ]
     },
     "execution_count": 8,
     "metadata": {},
     "output_type": "execute_result"
    }
   ],
   "source": [
    "raw = np.array(im.getdata())\n",
    "\n",
    "pts = {}\n",
    "for xyz in raw:\n",
    "    xyz = tuple(xyz)\n",
    "    if xyz not in pts:\n",
    "        pts[xyz] = len(pts)\n",
    "\n",
    "recons_faces = []\n",
    "\n",
    "for i in range(IMG_SIZE-1):\n",
    "    for j in range(IMG_SIZE-1):\n",
    "        cur = i*IMG_SIZE+j\n",
    "        next_row = (i+1)*IMG_SIZE+j\n",
    "        v2, v3 = [tuple(x) for x in raw[next_row:next_row+2]]\n",
    "        v0, v1 = [tuple(x) for x in raw[cur:cur+2]]\n",
    "        recons_faces.append([pts[v0], pts[v1], pts[v2]])\n",
    "        recons_faces.append([pts[v1], pts[v2], pts[v3]])\n",
    "\n",
    "recons_faces = np.array(recons_faces)\n",
    "\n",
    "pts = np.array(list(pts.keys()))\n",
    "\n",
    "mp.plot(pts, recons_faces)\n"
   ]
  },
  {
   "cell_type": "markdown",
   "metadata": {},
   "source": [
    "# Statistics\n",
    "\n",
    "- Our png file that we generated is 23 KB (for a 256x256 image, pictured above).\n",
    "\n",
    "- The demo will show a png that is 32x32, which is stored as 1443 B.\n",
    "\n",
    "- The original .off file storing the camel head is 767 KB (so we achieved significant lossy compression!)"
   ]
  }
 ],
 "metadata": {
  "kernelspec": {
   "display_name": "csc486b",
   "language": "python",
   "name": "python3"
  },
  "language_info": {
   "codemirror_mode": {
    "name": "ipython",
    "version": 3
   },
   "file_extension": ".py",
   "mimetype": "text/x-python",
   "name": "python",
   "nbconvert_exporter": "python",
   "pygments_lexer": "ipython3",
   "version": "3.10.10"
  }
 },
 "nbformat": 4,
 "nbformat_minor": 2
}
